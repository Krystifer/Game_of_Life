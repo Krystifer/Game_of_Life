{
 "cells": [
  {
   "cell_type": "code",
   "execution_count": 1,
   "id": "heavy-family",
   "metadata": {},
   "outputs": [],
   "source": [
    "import numpy as np\n",
    "import matplotlib.pyplot as plt\n",
    "import matplotlib.colors \n",
    "from matplotlib.colors import ListedColormap"
   ]
  },
  {
   "cell_type": "code",
   "execution_count": 2,
   "id": "micro-happiness",
   "metadata": {},
   "outputs": [],
   "source": [
    "def expand(mat,level):\n",
    "    n = len(mat)\n",
    "    ex = np.zeros((n+2*level,n+2*level), dtype = int)\n",
    "    ex[level:n+level,level:n+level] = mat\n",
    "    return ex"
   ]
  },
  {
   "cell_type": "code",
   "execution_count": 3,
   "id": "bridal-swimming",
   "metadata": {},
   "outputs": [],
   "source": [
    "def decrease(mat,level):\n",
    "    n = len(mat)\n",
    "    dec = np.zeros((n-2*level,n-2*level), dtype = int)\n",
    "    dec = mat[level:n-level,level:n-level] \n",
    "    return dec"
   ]
  },
  {
   "cell_type": "code",
   "execution_count": 4,
   "id": "sharing-crown",
   "metadata": {},
   "outputs": [],
   "source": [
    "def around_sum(i,j,arr):\n",
    "    return ( arr[i,j-1] + arr[i,j+1] + arr[i-1,j-1] + arr[i-1,j] + arr[i-1,j+1] + arr[i+1,j-1] + arr[i+1,j]+ arr[i+1,j+1] )"
   ]
  },
  {
   "cell_type": "code",
   "execution_count": 5,
   "id": "affecting-straight",
   "metadata": {},
   "outputs": [],
   "source": [
    "def rules(mat):\n",
    "    n = len(mat)\n",
    "    ex = expand(mat,2)\n",
    "    nMat = np.zeros((n+2,n+2), dtype=int)\n",
    "    for i in range(n+2):\n",
    "        for j in range(n+2):\n",
    "            s = around_sum(i+1,j+1,ex)\n",
    "            if s>3 or s <=1:\n",
    "                nMat[i,j] = 0\n",
    "            if s==3 and ex[i+1,j+1]== 0:\n",
    "                nMat[i,j] = 1\n",
    "            if (s==3 or s==2) and ex[i+1,j+1]== 1:\n",
    "                nMat[i,j] = 1\n",
    "    \n",
    "    return nMat"
   ]
  },
  {
   "cell_type": "code",
   "execution_count": 6,
   "id": "historic-subsection",
   "metadata": {},
   "outputs": [],
   "source": [
    "def maps(arr):\n",
    "    Map = ListedColormap([\"gray\", \"blue\"])\n",
    "    plt.figure(figsize=(5,5))\n",
    "    Arr=np.flipud(arr)\n",
    "    plt.pcolormesh(Arr, cmap = Map , edgecolors = \"silver\", lw=0.005, norm= matplotlib.colors.Normalize(0,1))\n",
    "    ax = plt.gca()\n",
    "    ax.axes.xaxis.set_visible(False)\n",
    "    ax.axes.yaxis.set_visible(False)\n",
    "    plt.show()"
   ]
  },
  {
   "cell_type": "code",
   "execution_count": 7,
   "id": "incoming-hormone",
   "metadata": {},
   "outputs": [],
   "source": [
    "def play(arr, steps):\n",
    "    dict={}\n",
    "    for i in range(steps+1):\n",
    "        dict[i]=arr\n",
    "        print(\"Estado número:\",i)\n",
    "        maps(arr)\n",
    "        arr = rules(arr)\n",
    "        for j in dict:\n",
    "            Arr = dict[j]\n",
    "            Arr = expand(Arr,int((len(arr)-len(Arr))/2))\n",
    "            booln_arr = np.equal(arr, Arr)\n",
    "            if booln_arr.all():\n",
    "                if i+1-j>1:\n",
    "                    print(\"Estado número:\",i+1)\n",
    "                    maps(arr)\n",
    "                    print(\"------Aquí empieza un patrón periódico, con período:\", i+1-j, \"pasos.-------\")\n",
    "                else:\n",
    "                    print(\"----------Este estado es estable.------------\")\n",
    "                return True"
   ]
  },
  {
   "cell_type": "code",
   "execution_count": 8,
   "id": "former-destination",
   "metadata": {},
   "outputs": [
    {
     "name": "stdout",
     "output_type": "stream",
     "text": [
      "Estado número: 0\n"
     ]
    },
    {
     "data": {
      "image/png": "[encoded data removed]",
      "text/plain": [
       "<Figure size 360x360 with 1 Axes>"
      ]
     },
     "metadata": {
      "needs_background": "light"
     },
     "output_type": "display_data"
    },
    {
     "name": "stdout",
     "output_type": "stream",
     "text": [
      "Estado número: 1\n"
     ]
    },
    {
     "data": {
      "image/png": "[encoded data removed]",
      "text/plain": [
       "<Figure size 360x360 with 1 Axes>"
      ]
     },
     "metadata": {
      "needs_background": "light"
     },
     "output_type": "display_data"
    },
    {
     "name": "stdout",
     "output_type": "stream",
     "text": [
      "Estado número: 2\n"
     ]
    },
    {
     "data": {
      "image/png": "[encoded data removed]",
      "text/plain": [
       "<Figure size 360x360 with 1 Axes>"
      ]
     },
     "metadata": {
      "needs_background": "light"
     },
     "output_type": "display_data"
    },
    {
     "name": "stdout",
     "output_type": "stream",
     "text": [
      "Estado número: 3\n"
     ]
    },
    {
     "data": {
      "image/png": "[encoded data removed]",
      "text/plain": [
       "<Figure size 360x360 with 1 Axes>"
      ]
     },
     "metadata": {
      "needs_background": "light"
     },
     "output_type": "display_data"
    },
    {
     "name": "stdout",
     "output_type": "stream",
     "text": [
      "Estado número: 4\n"
     ]
    },
    {
     "data": {
      "image/png": "[encoded data removed]",
      "text/plain": [
       "<Figure size 360x360 with 1 Axes>"
      ]
     },
     "metadata": {
      "needs_background": "light"
     },
     "output_type": "display_data"
    },
    {
     "name": "stdout",
     "output_type": "stream",
     "text": [
      "----------Este estado es estable.------------\n"
     ]
    },
    {
     "data": {
      "text/plain": [
       "True"
      ]
     },
     "execution_count": 8,
     "metadata": {},
     "output_type": "execute_result"
    }
   ],
   "source": [
    "arr1=np.array(\n",
    "        [[1,0,1,0,1,0,1,0],\n",
    "         [0,1,0,1,0,1,0,1],\n",
    "         [1,0,1,0,1,0,1,0],\n",
    "         [0,1,0,1,0,1,0,1],\n",
    "         [1,0,1,0,1,0,1,0],\n",
    "         [0,1,0,1,0,1,0,1],\n",
    "         [1,0,1,0,1,0,1,0],\n",
    "         [0,1,0,1,0,1,0,1]])\n",
    "\n",
    "play(arr1,5)\n"
   ]
  },
  {
   "cell_type": "code",
   "execution_count": null,
   "id": "interim-captain",
   "metadata": {},
   "outputs": [],
   "source": []
  }
 ],
 "metadata": {
  "kernelspec": {
   "display_name": "Python 3",
   "language": "python",
   "name": "python3"
  },
  "language_info": {
   "codemirror_mode": {
    "name": "ipython",
    "version": 3
   },
   "file_extension": ".py",
   "mimetype": "text/x-python",
   "name": "python",
   "nbconvert_exporter": "python",
   "pygments_lexer": "ipython3",
   "version": "3.8.8"
  }
 },
 "nbformat": 4,
 "nbformat_minor": 5
}
